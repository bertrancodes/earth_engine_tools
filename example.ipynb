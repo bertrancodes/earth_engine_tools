{
 "cells": [
  {
   "attachments": {},
   "cell_type": "markdown",
   "metadata": {},
   "source": [
    "# Basic use example\n",
    "## Create a table using zonalStats function and export it as a csv file to Google Drive"
   ]
  },
  {
   "attachments": {},
   "cell_type": "markdown",
   "metadata": {},
   "source": [
    "#### Load modules"
   ]
  },
  {
   "cell_type": "code",
   "execution_count": 4,
   "metadata": {},
   "outputs": [],
   "source": [
    "import ee\n",
    "import s2_gee_toolbox as s2g\n",
    "\n",
    "from general_gee_toolbox import zonalStats\n",
    "from general_gee_toolbox import showTaskManager\n",
    "\n",
    "ee.Initialize()"
   ]
  },
  {
   "attachments": {},
   "cell_type": "markdown",
   "metadata": {},
   "source": [
    "#### Generate a featureCollection from a list of points or load a custom one "
   ]
  },
  {
   "cell_type": "code",
   "execution_count": 5,
   "metadata": {},
   "outputs": [],
   "source": [
    "\n",
    "points = ee.FeatureCollection([\n",
    "  ee.Feature(ee.Geometry.Point([-0.66522150, 39.93055864]), {'id': 1}),\n",
    "  ee.Feature(ee.Geometry.Point([-0.72310899, 39.98148865]), {'id': 2}),\n",
    "  ee.Feature(ee.Geometry.Point([-0.60845867, 39.07450846]), {'id': 3}),\n",
    "  ee.Feature(ee.Geometry.Point([-1.67793037, 38.89151445]), {'id': 4}),\n",
    "  ee.Feature(ee.Geometry.Point([-1.84322937, 38.90086940]), {'id': 5})\n",
    "])"
   ]
  },
  {
   "cell_type": "code",
   "execution_count": 6,
   "metadata": {},
   "outputs": [
    {
     "data": {
      "application/vnd.jupyter.widget-view+json": {
       "model_id": "84f400ddd0b14845b3cbf70d55a04c60",
       "version_major": 2,
       "version_minor": 0
      },
      "text/plain": [
       "Output()"
      ]
     },
     "metadata": {},
     "output_type": "display_data"
    },
    {
     "data": {
      "text/html": [
       "<pre style=\"white-space:pre;overflow-x:auto;line-height:normal;font-family:Menlo,'DejaVu Sans Mono',consolas,'Courier New',monospace\"></pre>\n"
      ],
      "text/plain": []
     },
     "metadata": {},
     "output_type": "display_data"
    },
    {
     "data": {
      "text/html": [
       "<pre style=\"white-space:pre;overflow-x:auto;line-height:normal;font-family:Menlo,'DejaVu Sans Mono',consolas,'Courier New',monospace\">\n",
       "</pre>\n"
      ],
      "text/plain": [
       "\n"
      ]
     },
     "metadata": {},
     "output_type": "display_data"
    }
   ],
   "source": [
    "i_date = '2019-01-01'\n",
    "e_date = '2020-01-01'\n",
    "\n",
    "# Get Sentinel-2 Cloudless Collection and add some spectral indices\n",
    "cloud_free_s2 = s2g.get_cloudless_col(points, i_date, e_date).map(s2g.add_NDVI).map(s2g.add_DVI).map(s2g.add_NDWI).map(s2g.add_DWI).map(s2g.add_GNDVI)\n",
    "era5_coll = ee.ImageCollection('ECMWF/ERA5_LAND/HOURLY').filter(ee.Filter.date(i_date, e_date)).map(lambda image: image.clip(points))\n",
    "\n",
    "# Generate parmeters for the zonalStats function\n",
    "z_params_S2 = {\n",
    "  'reducer': 'full',\n",
    "  'scale': 10, \n",
    "  'crs': 'EPSG:4326', \n",
    "  'bands': ['ndvi', 'dvi', 'ndwi', 'dwi', 'gndvi', 'B2', 'B3', 'B4', 'B5', 'B6', 'B7', 'B8', 'B8A', 'B11', 'B12'], \n",
    "  'bandsRename': ['NDVI', 'DVI', 'NDWI', 'DWI', 'GNDVI', 'B2', 'B3', 'B4', 'B5', 'B6', 'B7', 'B8', 'B8A', 'B11', 'B12'],\n",
    "  'datetimeName': 'date',\n",
    "  'datetimeFormat': 'YYYY-MM-dd',\n",
    "  'imgProps': ['GRANULE_ID']\n",
    "}\n",
    "\n",
    "z_params_era5 = {\n",
    "  'reducer': ee.Reducer.mean(),\n",
    "  'scale': 10, # Must be 10 in order to conserve all polygons\n",
    "  'crs': 'EPSG:4326',\n",
    "  'bands': ['total_precipitation', 'temperature_2m', 'soil_temperature_level_1', 'u_component_of_wind_10m', 'v_component_of_wind_10m'], \n",
    "  'bandsRename': None,\n",
    "  'datetimeName': 'date',\n",
    "  'datetimeFormat': 'YYYY-MM-dd',\n",
    "}\n",
    "\n",
    "zonalS2 = zonalStats(cloud_free_s2, points, **z_params_S2)\n",
    "zonalERA5 = zonalStats(era5_coll, points, **z_params_era5)\n",
    "\n",
    "# Export featureCollection as csv files to Goolgle Drive \n",
    "taskS2_name  = 'S2_TimeSeries'\n",
    "taskS2 = ee.batch.Export.table.toDrive(\n",
    "    collection = zonalS2,\n",
    "    folder = 'earthengine',\n",
    "    description = taskS2_name,\n",
    "    fileFormat = 'CSV'\n",
    "  )\n",
    "\n",
    "taskERA5_name = 'ERA5_TimeSeries'\n",
    "taskERA5 = ee.batch.Export.table.toDrive(\n",
    "    collection = zonalERA5,\n",
    "    folder =  'earthengine',\n",
    "    description = taskERA5_name,\n",
    "    fileFormat = 'CSV'\n",
    "  )\n",
    "\n",
    "taskS2.start()\n",
    "taskERA5.start()\n",
    "\n",
    "showTaskManager(taskS2, taskERA5)"
   ]
  }
 ],
 "metadata": {
  "kernelspec": {
   "display_name": "geospatial",
   "language": "python",
   "name": "python3"
  },
  "language_info": {
   "codemirror_mode": {
    "name": "ipython",
    "version": 3
   },
   "file_extension": ".py",
   "mimetype": "text/x-python",
   "name": "python",
   "nbconvert_exporter": "python",
   "pygments_lexer": "ipython3",
   "version": "3.9.2"
  },
  "orig_nbformat": 4,
  "vscode": {
   "interpreter": {
    "hash": "9d3dedf332f7f9c496a5e945e7e4c61068b2c3a85809e31c725130fd41cf1de1"
   }
  }
 },
 "nbformat": 4,
 "nbformat_minor": 2
}
